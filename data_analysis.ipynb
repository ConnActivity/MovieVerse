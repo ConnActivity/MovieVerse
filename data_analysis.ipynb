{
 "cells": [
  {
   "cell_type": "markdown",
   "source": [
    "## Setup"
   ],
   "metadata": {
    "collapsed": false
   },
   "id": "62cc53984bab07d0"
  },
  {
   "cell_type": "code",
   "execution_count": null,
   "id": "initial_id",
   "metadata": {
    "collapsed": true
   },
   "outputs": [],
   "source": [
    "import psycopg2\n",
    "import pandas as pd\n",
    "import plotly.express as px\n",
    "import plotly.graph_objects as go\n",
    "import seaborn as sns"
   ]
  },
  {
   "cell_type": "code",
   "execution_count": null,
   "outputs": [],
   "source": [
    "# Connect to postgres database\n",
    "db_config = {\n",
    "    'dbname': 'movie_db',\n",
    "    'user': 'postgres',\n",
    "    'password': 'DB_PASSWORD',\n",
    "    'host': 'HOST',\n",
    "    'port': '5333'\n",
    "}\n",
    "conn = psycopg2.connect(**db_config)"
   ],
   "metadata": {
    "collapsed": false
   },
   "id": "9a50cd053f023c7b"
  },
  {
   "cell_type": "markdown",
   "source": [
    "## Queries"
   ],
   "metadata": {
    "collapsed": false
   },
   "id": "8c21d60018fe3c3"
  },
  {
   "cell_type": "code",
   "execution_count": null,
   "outputs": [],
   "source": [
    "# Filter out too small movies\n",
    "# WHERE revenue > 0 AND budget > 0 AND runtime > 45"
   ],
   "metadata": {
    "collapsed": false
   },
   "id": "8206beab43ff83da"
  },
  {
   "cell_type": "code",
   "execution_count": null,
   "outputs": [],
   "source": [
    "# Top 100 movies by revenue\n",
    "query = \"\"\"\n",
    "SELECT title, revenue, budget\n",
    "FROM movies\n",
    "ORDER BY revenue DESC\n",
    "LIMIT 100;\n",
    "\"\"\"\n",
    "\n",
    "df_top_revenue = pd.read_sql(query, conn)\n",
    "df_top_revenue"
   ],
   "metadata": {
    "collapsed": false
   },
   "id": "978067ca1a9df008"
  },
  {
   "cell_type": "code",
   "execution_count": null,
   "outputs": [],
   "source": [
    "# Top 100 movies by rating\n",
    "query = \"\"\"\n",
    "SELECT title, mp.vote_average\n",
    "FROM movies\n",
    "JOIN movies_popularity mp ON movies.id = mp.id\n",
    "ORDER BY vote_average DESC\n",
    "LIMIT 100;\n",
    "\"\"\"\n",
    "\n",
    "df_top_rating = pd.read_sql(query, conn)\n",
    "df_top_rating"
   ],
   "metadata": {
    "collapsed": false
   },
   "id": "56a73464c7fbcd5e"
  },
  {
   "cell_type": "code",
   "execution_count": null,
   "outputs": [],
   "source": [
    "# Number of movies by production country\n",
    "query = \"\"\"\n",
    "SELECT pc.name, COUNT(*) AS num_movies\n",
    "FROM productioncountries pc\n",
    "JOIN movieproductioncountries mpc ON pc.iso_3166_1 = mpc.iso_3166_1\n",
    "GROUP BY pc.name\n",
    "ORDER BY num_movies DESC;\n",
    "\"\"\"\n",
    "\n",
    "df_num_movies_by_country = pd.read_sql(query, conn)\n",
    "df_num_movies_by_country"
   ],
   "metadata": {
    "collapsed": false
   },
   "id": "dc730ccecd82d4a4"
  },
  {
   "cell_type": "code",
   "execution_count": null,
   "outputs": [],
   "source": [
    "# Number of movies by genre\n",
    "query = \"\"\"\n",
    "SELECT g.name, COUNT(*) AS num_movies\n",
    "FROM genres g\n",
    "JOIN moviegenres mg ON g.id = mg.genre_id\n",
    "GROUP BY g.name\n",
    "ORDER BY num_movies DESC;\n",
    "\"\"\"\n",
    "\n",
    "df_num_movies_by_genre = pd.read_sql(query, conn)\n",
    "df_num_movies_by_genre"
   ],
   "metadata": {
    "collapsed": false
   },
   "id": "6d3180770f07c20c"
  },
  {
   "cell_type": "code",
   "execution_count": null,
   "outputs": [],
   "source": [
    "# Average revenue by genre\n",
    "query = \"\"\"\n",
    "SELECT g.name AS genre, AVG(m.revenue) AS average_revenue\n",
    "FROM Genres g\n",
    "JOIN MovieGenres mg ON g.id = mg.genre_id\n",
    "JOIN Movies m ON mg.movie_id = m.id\n",
    "GROUP BY g.name\n",
    "ORDER BY average_revenue DESC;\n",
    "\"\"\"\n",
    "\n",
    "df_average_revenue_by_genre = pd.read_sql(query, conn)\n",
    "df_average_revenue_by_genre"
   ],
   "metadata": {
    "collapsed": false
   },
   "id": "1d5e737cfa3d895d"
  },
  {
   "cell_type": "code",
   "execution_count": null,
   "outputs": [],
   "source": [
    "# Movie name and popularity score by day for the last 30 days\n",
    "query = \"\"\"\n",
    "SELECT title, popularity, date\n",
    "FROM movies\n",
    "JOIN movies_popularity mp ON movies.id = mp.movie_id\n",
    "WHERE date >= NOW() - INTERVAL '30 days'\n",
    "ORDER BY popularity DESC;\n",
    "\"\"\"\n",
    "\n",
    "df_popularity_by_day = pd.read_sql(query, conn)\n",
    "df_popularity_by_day"
   ],
   "metadata": {
    "collapsed": false
   },
   "id": "b7339d9bf1a7e0e0"
  },
  {
   "cell_type": "code",
   "execution_count": null,
   "outputs": [],
   "source": [
    "# Movie count by spoken language\n",
    "query = \"\"\"\n",
    "SELECT sl.english_name, COUNT(*) AS num_movies\n",
    "FROM spokenlanguages sl\n",
    "JOIN moviespokenlanguages msl ON sl.iso_639_1 = msl.iso_639_1\n",
    "GROUP BY sl.english_name\n",
    "ORDER BY num_movies DESC;\n",
    "\"\"\"\n",
    "\n",
    "df_num_movies_by_language = pd.read_sql(query, conn)\n",
    "df_num_movies_by_language"
   ],
   "metadata": {
    "collapsed": false
   },
   "id": "c3b0b4c62bf3ee4e"
  },
  {
   "cell_type": "code",
   "execution_count": null,
   "outputs": [],
   "source": [
    "# Movie count by release year by production country\n",
    "query = \"\"\"\n",
    "SELECT pc.name, EXTRACT(YEAR FROM release_date) AS release_year, COUNT(*) AS num_movies\n",
    "FROM productioncountries pc\n",
    "JOIN movieproductioncountries mpc ON pc.iso_3166_1 = mpc.iso_3166_1\n",
    "JOIN movies ON mpc.movie_id = movies.id\n",
    "GROUP BY pc.name, release_year\n",
    "ORDER BY release_year, pc.name;\n",
    "\"\"\"\n",
    "\n",
    "df_num_movies_by_year_by_country = pd.read_sql(query, conn)\n",
    "df_num_movies_by_year_by_country"
   ],
   "metadata": {
    "collapsed": false
   },
   "id": "793b86dcdc9658fe"
  },
  {
   "cell_type": "code",
   "execution_count": null,
   "outputs": [],
   "source": [
    "# Average movie runtime\n",
    "query = \"\"\"\n",
    "SELECT AVG(runtime) AS average_runtime\n",
    "FROM Movies;\n",
    "\"\"\"\n",
    "\n",
    "df_average_runtime = pd.read_sql(query, conn)\n",
    "df_average_runtime"
   ],
   "metadata": {
    "collapsed": false
   },
   "id": "fa08e195df930ecf"
  },
  {
   "cell_type": "code",
   "execution_count": null,
   "outputs": [],
   "source": [
    "# Number of movies by production company\n",
    "query = \"\"\"\n",
    "SELECT pc.name AS company, COUNT(*) AS movie_count\n",
    "FROM ProductionCompanies pc\n",
    "JOIN MovieProductionCompanies mpc ON pc.id = mpc.production_company_id\n",
    "GROUP BY pc.name\n",
    "ORDER BY movie_count DESC;\n",
    "\"\"\"\n",
    "\n",
    "df_num_movies_by_company = pd.read_sql(query, conn)\n",
    "df_num_movies_by_company"
   ],
   "metadata": {
    "collapsed": false
   },
   "id": "a06a5e23957784e9"
  },
  {
   "cell_type": "code",
   "execution_count": null,
   "outputs": [],
   "source": [
    "# Most cooperation between production companies\n",
    "query = \"\"\"\n",
    "SELECT pc1.name AS company1, pc2.name AS company2, COUNT(*) AS movie_count\n",
    "FROM ProductionCompanies pc1\n",
    "JOIN MovieProductionCompanies mpc1 ON pc1.id = mpc1.production_company_id\n",
    "JOIN MovieProductionCompanies mpc2 ON mpc1.movie_id = mpc2.movie_id\n",
    "JOIN ProductionCompanies pc2 ON mpc2.production_company_id = pc2.id\n",
    "WHERE pc1.name < pc2.name\n",
    "GROUP BY pc1.name, pc2.name\n",
    "ORDER BY movie_count DESC;\n",
    "\"\"\"\n",
    "\n",
    "df_cooperation = pd.read_sql(query, conn)\n",
    "df_cooperation"
   ],
   "metadata": {
    "collapsed": false
   },
   "id": "7d26a76cd677085b"
  },
  {
   "cell_type": "code",
   "execution_count": null,
   "outputs": [],
   "source": [
    "# Average revenue by production company\n",
    "query = \"\"\"\n",
    "SELECT pc.name AS company, AVG(m.revenue) AS average_revenue\n",
    "FROM ProductionCompanies pc\n",
    "JOIN MovieProductionCompanies mpc ON pc.id = mpc.production_company_id\n",
    "JOIN Movies m ON mpc.movie_id = m.id\n",
    "GROUP BY pc.name\n",
    "ORDER BY average_revenue DESC;\n",
    "\"\"\"\n",
    "\n",
    "df_average_revenue_by_company = pd.read_sql(query, conn)\n",
    "df_average_revenue_by_company"
   ],
   "metadata": {
    "collapsed": false
   },
   "id": "8b02facee4a9c3bf"
  },
  {
   "cell_type": "code",
   "execution_count": null,
   "outputs": [],
   "source": [
    "# Total revenue of all movies produced by production company\n",
    "query = \"\"\"\n",
    "SELECT pc.name AS company, SUM(m.revenue) AS total_revenue\n",
    "FROM ProductionCompanies pc\n",
    "JOIN MovieProductionCompanies mpc ON pc.id = mpc.production_company_id\n",
    "JOIN Movies m ON mpc.movie_id = m.id\n",
    "GROUP BY pc.name\n",
    "ORDER BY total_revenue DESC;\n",
    "\"\"\"\n",
    "\n",
    "df_total_revenue_by_company = pd.read_sql(query, conn)\n",
    "df_total_revenue_by_company"
   ],
   "metadata": {
    "collapsed": false
   },
   "id": "706d7ee70f4d8c9a"
  },
  {
   "cell_type": "code",
   "execution_count": null,
   "outputs": [],
   "source": [
    "query = \"\"\"\n",
    "SELECT pc.name AS country, g.name AS genre, COUNT(*) AS genre_count\n",
    "FROM genres g\n",
    "JOIN moviegenres mg ON g.id = mg.genre_id\n",
    "JOIN movieproductioncountries mpc ON mg.movie_id = mpc.movie_id\n",
    "JOIN productioncountries pc ON mpc.iso_3166_1 = pc.iso_3166_1\n",
    "GROUP BY pc.name, g.name\n",
    "ORDER BY pc.name, genre_count DESC;\n",
    "\"\"\"\n",
    "\n",
    "df_num_movies_by_country_by_genre = pd.read_sql(query, conn)\n",
    "df_num_movies_by_country_by_genre"
   ],
   "metadata": {
    "collapsed": false
   },
   "id": "eae9cc5dfe75fca0"
  },
  {
   "cell_type": "code",
   "execution_count": null,
   "outputs": [],
   "source": [
    "query = \"\"\"\n",
    "    SELECT \n",
    "        SPLIT_PART(name, ' ', -1) AS last_name\n",
    "    FROM \n",
    "        people\n",
    "\"\"\"\n",
    "\n",
    "df_last_names = pd.read_sql(query, conn)\n",
    "df_last_names"
   ],
   "metadata": {
    "collapsed": false
   },
   "id": "6876576ac58b4974"
  },
  {
   "cell_type": "code",
   "execution_count": null,
   "outputs": [],
   "source": [
    "query = \"\"\"\n",
    "SELECT CASE \n",
    "    WHEN gender = 0 THEN 'Not set / not specified'\n",
    "    WHEN gender = 1 THEN 'Female'\n",
    "    WHEN gender = 2 THEN 'Male'\n",
    "    WHEN gender = 3 THEN 'Non-binary'\n",
    "    ELSE 'Unknown'\n",
    "    END AS gender_label,\n",
    "    popularity\n",
    "FROM people\n",
    "JOIN people_popularity ON people.id = people_popularity.person_id\n",
    "\"\"\"\n",
    "\n",
    "df_gender_distribution = pd.read_sql(query, conn)\n",
    "df_gender_distribution"
   ],
   "metadata": {
    "collapsed": false
   },
   "id": "e35509f6bc97019"
  },
  {
   "cell_type": "code",
   "execution_count": null,
   "outputs": [],
   "source": [
    "# Top actors\n",
    "query = \"\"\"\n",
    "    SELECT p.name, AVG(pp.popularity) AS avg_popularity\n",
    "    FROM people p\n",
    "    JOIN people_popularity pp ON p.id = pp.person_id\n",
    "    GROUP BY p.name\n",
    "    ORDER BY avg_popularity DESC\n",
    "    LIMIT 10\n",
    "\"\"\"\n",
    "\n",
    "df_top_actors = pd.read_sql(query, conn)\n",
    "df_top_actors"
   ],
   "metadata": {
    "collapsed": false
   },
   "id": "10cdbff4f819cc6b"
  },
  {
   "cell_type": "code",
   "execution_count": null,
   "outputs": [],
   "source": [
    "# Average department popularity\n",
    "query = \"\"\"\n",
    "    SELECT known_for_department, AVG(popularity) as avg_popularity\n",
    "    FROM people\n",
    "    JOIN people_popularity ON people.id = people_popularity.person_id\n",
    "    GROUP BY known_for_department\n",
    "\"\"\"\n",
    "\n",
    "df_department_popularity = pd.read_sql(query, conn)\n",
    "df_department_popularity"
   ],
   "metadata": {
    "collapsed": false
   },
   "id": "198b583bd0f08a0c"
  },
  {
   "cell_type": "code",
   "execution_count": null,
   "outputs": [],
   "source": [
    "# Get all people\n",
    "query = \"\"\"\n",
    "    SELECT *\n",
    "    FROM people\n",
    "\"\"\"\n",
    "\n",
    "df_people = pd.read_sql(query, conn)\n",
    "df_people"
   ],
   "metadata": {
    "collapsed": false
   },
   "id": "2a0a6363653f43ee"
  },
  {
   "cell_type": "code",
   "execution_count": null,
   "outputs": [],
   "source": [
    "# All movies with revenue and budget that are not adult movies\n",
    "query = \"\"\"\n",
    "    SELECT *\n",
    "    FROM movies\n",
    "    WHERE revenue > 0 AND budget > 0 AND runtime > 45 AND adult = FALSE\n",
    "\"\"\"\n",
    "\n",
    "df_movies = pd.read_sql(query, conn)\n",
    "df_movies"
   ],
   "metadata": {
    "collapsed": false
   },
   "id": "70114cc7a2fd9b0a"
  },
  {
   "cell_type": "code",
   "execution_count": null,
   "outputs": [],
   "source": [
    "# All movies unfiltered\n",
    "query = \"\"\"\n",
    "    SELECT *\n",
    "    FROM movies\n",
    "\"\"\"\n",
    "\n",
    "df_movies_unfiltered = pd.read_sql(query, conn)\n",
    "df_movies_unfiltered"
   ],
   "metadata": {
    "collapsed": false
   },
   "id": "4f0fc14e527ca532"
  },
  {
   "cell_type": "code",
   "execution_count": null,
   "outputs": [],
   "source": [
    "# All genres and moviegenres\n",
    "query = \"\"\"\n",
    "    SELECT *\n",
    "    FROM genres\n",
    "\"\"\"\n",
    "\n",
    "df_genres = pd.read_sql(query, conn)\n",
    "\n",
    "query = \"\"\"\n",
    "    SELECT *\n",
    "    FROM moviegenres\n",
    "\"\"\"\n",
    "\n",
    "df_moviegenres = pd.read_sql(query, conn)"
   ],
   "metadata": {
    "collapsed": false
   },
   "id": "1eb2306fcc9918b4"
  },
  {
   "cell_type": "code",
   "execution_count": null,
   "outputs": [],
   "source": [
    "# Filtered budget and revenue\n",
    "query = \"\"\"\n",
    "SELECT budget, revenue\n",
    "FROM Movies\n",
    "WHERE budget > 0 AND revenue > 0 AND RUNTIME > 0;\n",
    "\"\"\"\n",
    "\n",
    "budget_vs_revenue = pd.read_sql(query, conn)\n",
    "budget_vs_revenue"
   ],
   "metadata": {
    "collapsed": false
   },
   "id": "159f6d168ef40b74"
  },
  {
   "cell_type": "code",
   "execution_count": null,
   "outputs": [],
   "source": [
    "# runtim revenue distribution\n",
    "query = \"\"\"\n",
    "SELECT runtime, revenue\n",
    "FROM Movies\n",
    "WHERE runtime > 0 AND revenue > 0 AND budget > 0;\n",
    "\"\"\"\n",
    "\n",
    "runtime_vs_revenue = pd.read_sql(query, conn)\n",
    "runtime_vs_revenue"
   ],
   "metadata": {
    "collapsed": false
   },
   "id": "8ddd6b35bb282f52"
  },
  {
   "cell_type": "code",
   "execution_count": null,
   "outputs": [],
   "source": [
    "query = \"\"\"\n",
    "SELECT original_language, COUNT(*) as num_movies\n",
    "FROM Movies\n",
    "GROUP BY original_language\n",
    "ORDER BY num_movies DESC\n",
    "\"\"\"\n",
    "\n",
    "language_diversity_in_movies = pd.read_sql(query, conn)\n",
    "language_diversity_in_movies"
   ],
   "metadata": {
    "collapsed": false
   },
   "id": "e18b631f76e36bf4"
  },
  {
   "cell_type": "markdown",
   "source": [
    "## Visualization"
   ],
   "metadata": {
    "collapsed": false
   },
   "id": "470eb91ab8adc356"
  },
  {
   "cell_type": "code",
   "execution_count": null,
   "outputs": [],
   "source": [
    "# Top 100 movies by revenue plotly plot\n",
    "fig_revenue_top_100_bar = px.bar(df_top_revenue, x='title', y='revenue', title='Top 100 movies by revenue')\n",
    "fig_revenue_top_100_bar.show()"
   ],
   "metadata": {
    "collapsed": false
   },
   "id": "4b0e1c59c4037484"
  },
  {
   "cell_type": "code",
   "execution_count": null,
   "outputs": [],
   "source": [
    "# Top 100 movies by rating plotly plot\n",
    "fig_top_100_bar = px.bar(df_top_rating, x='title', y='vote_average', title='Top 100 movies by rating')\n",
    "fig_top_100_bar.show()"
   ],
   "metadata": {
    "collapsed": false
   },
   "id": "33bc704cb5500555"
  },
  {
   "cell_type": "code",
   "execution_count": null,
   "outputs": [],
   "source": [
    "# Number of movies by production country plotly plot (top 20)\n",
    "fig_top_countries_bar = px.bar(df_num_movies_by_country[:20], x='name', y='num_movies',\n",
    "                               title='Number of movies by production country')\n",
    "fig_top_countries_bar.show()"
   ],
   "metadata": {
    "collapsed": false
   },
   "id": "c661a8bda032cd85"
  },
  {
   "cell_type": "code",
   "execution_count": null,
   "outputs": [],
   "source": [
    "# Number of movies by production company plotly plot (top 20)\n",
    "fig_top_companies_bar = px.bar(df_num_movies_by_company[:20], x='company', y='movie_count',\n",
    "                               title='Number of movies by production company')\n",
    "fig_top_companies_bar.show()"
   ],
   "metadata": {
    "collapsed": false
   },
   "id": "264ddb6bf0c61843"
  },
  {
   "cell_type": "code",
   "execution_count": null,
   "outputs": [],
   "source": [
    "# Total revenue by production company plotly plot (top 20)\n",
    "fig_total_revenue_by_company_bar = px.bar(df_total_revenue_by_company[:20], x='company', y='total_revenue',\n",
    "                                          title='Total revenue by production company')\n",
    "fig_total_revenue_by_company_bar.show()"
   ],
   "metadata": {
    "collapsed": false
   },
   "id": "980678558f7be6ad"
  },
  {
   "cell_type": "code",
   "execution_count": null,
   "outputs": [],
   "source": [
    "# Average revenue by genre plotly plot\n",
    "fig_average_revenue_by_genre_bar = px.bar(df_average_revenue_by_genre, x='genre', y='average_revenue',\n",
    "                                          title='Average revenue by genre')\n",
    "fig_average_revenue_by_genre_bar.show()"
   ],
   "metadata": {
    "collapsed": false
   },
   "id": "7ed3e439785814e1"
  },
  {
   "cell_type": "code",
   "execution_count": null,
   "outputs": [],
   "source": [
    "# Cooperation between production companies plotly plot (top 20)\n",
    "fig_cooperation_bar = px.bar(df_cooperation[:20], x='company2', y='movie_count', color='movie_count',\n",
    "                             animation_frame='company1', title='Cooperation between production companies')\n",
    "fig_cooperation_bar.show()"
   ],
   "metadata": {
    "collapsed": false
   },
   "id": "683afdaaaf40096c"
  },
  {
   "cell_type": "code",
   "execution_count": null,
   "outputs": [],
   "source": [
    "# Number of movies by production country plotly plot (top 20) (Map)\n",
    "fig_top_countries_map = px.choropleth(df_num_movies_by_country[:20], locations='name', locationmode='country names',\n",
    "                                      color='num_movies', title='Number of movies by production country')\n",
    "fig_top_countries_map.show()"
   ],
   "metadata": {
    "collapsed": false
   },
   "id": "d96f9462aaa7eec0"
  },
  {
   "cell_type": "code",
   "execution_count": null,
   "outputs": [],
   "source": [
    "# Number of movies by genre plotly plot (top 20)\n",
    "fig_top_genres_bar = px.bar(df_num_movies_by_genre[:20], x='name', y='num_movies', title='Number of movies by genre')\n",
    "fig_top_genres_bar.show()"
   ],
   "metadata": {
    "collapsed": false
   },
   "id": "bb5761b4ef45be25"
  },
  {
   "cell_type": "code",
   "execution_count": null,
   "outputs": [],
   "source": [
    "# Select the 20 top movies by popularity that also have the most entries\n",
    "df_popularity_by_day_top_30 = df_popularity_by_day[\n",
    "    df_popularity_by_day['title'].isin(df_popularity_by_day['title'].value_counts()[:30].index)]\n",
    "# order by data and title and popularity\n",
    "df_popularity_by_day_top_30 = df_popularity_by_day_top_30.sort_values(by=['date', 'popularity', 'title'],\n",
    "                                                                      ascending=False)\n",
    "\n",
    "# Animated bar chart for top 20 movies by popularity\n",
    "fig_popularity_top_30 = px.bar(df_popularity_by_day_top_30, x='title', y='popularity', animation_frame='date',\n",
    "                               animation_group='title', title='Movies by popularity')\n",
    "# , range_y=[0, 600]\n",
    "fig_popularity_top_30.update_layout(transition={'duration': 2000})\n",
    "fig_popularity_top_30.show()"
   ],
   "metadata": {
    "collapsed": false
   },
   "id": "39c360de9ba5054c"
  },
  {
   "cell_type": "code",
   "execution_count": null,
   "outputs": [],
   "source": [
    "# Number of movies by spoken language plotly plot (top 15)\n",
    "fig_top_languages = px.bar(df_num_movies_by_language[:15], y='english_name', x='num_movies',\n",
    "                           title='Number of movies by spoken language', orientation='h')\n",
    "fig_top_languages.show()"
   ],
   "metadata": {
    "collapsed": false
   },
   "id": "17e0f8cee29735be"
  },
  {
   "cell_type": "code",
   "execution_count": null,
   "outputs": [],
   "source": [
    "# Number of movies by release year by production country plotly plot\n",
    "fig_releases_by_year_map = px.choropleth(df_num_movies_by_year_by_country, locations='name',\n",
    "                                         locationmode='country names', color='num_movies',\n",
    "                                         animation_frame='release_year',\n",
    "                                         title='Number of movies by release year by production country',\n",
    "                                         range_color=[0, 5000])\n",
    "fig_releases_by_year_map.show()"
   ],
   "metadata": {
    "collapsed": false
   },
   "id": "b8cdf4141b27dc5"
  },
  {
   "cell_type": "code",
   "execution_count": null,
   "outputs": [],
   "source": [
    "# Accumulate number of movies by release year\n",
    "df_num_movies_by_year_by_country_accumulated = df_num_movies_by_year_by_country.groupby(\n",
    "    ['release_year', 'name']).sum().groupby(level=[1]).cumsum().reset_index()\n",
    "# fill missing years\n",
    "df_num_movies_by_year_by_country_accumulated = df_num_movies_by_year_by_country_accumulated.set_index(\n",
    "    ['release_year', 'name']).unstack().fillna(method='ffill').stack().reset_index()\n",
    "df_num_movies_by_year_by_country_accumulated"
   ],
   "metadata": {
    "collapsed": false
   },
   "id": "9e79b45453520932"
  },
  {
   "cell_type": "code",
   "execution_count": null,
   "outputs": [],
   "source": [
    "# Number of movies by release year by production country plotly plot (accumulated)\n",
    "fig_releases_by_year_acc_map = px.choropleth(df_num_movies_by_year_by_country_accumulated, locations='name',\n",
    "                                             locationmode='country names', color='num_movies',\n",
    "                                             animation_frame='release_year',\n",
    "                                             title='Number of movies by release year by production country (accumulated)',\n",
    "                                             range_color=[0, 140000])\n",
    "fig_releases_by_year_acc_map.show()"
   ],
   "metadata": {
    "collapsed": false
   },
   "id": "9ae77411661aecef"
  },
  {
   "cell_type": "code",
   "execution_count": null,
   "outputs": [],
   "source": [
    "# Top genre by production country on plotly map\n",
    "df_num_movies_by_country_by_genre_top = df_num_movies_by_country_by_genre.groupby(['country']).first().reset_index()\n",
    "\n",
    "fig_top_genre_by_country_map = px.choropleth(df_num_movies_by_country_by_genre_top, locations='country',\n",
    "                                             locationmode='country names', color='genre',\n",
    "                                             title='Top genre by production country')\n",
    "fig_top_genre_by_country_map.show()"
   ],
   "metadata": {
    "collapsed": false
   },
   "id": "106cebd0a7954de5"
  },
  {
   "cell_type": "code",
   "execution_count": null,
   "outputs": [],
   "source": [
    "from wordcloud import WordCloud\n",
    "from plotly import graph_objects as go\n",
    "from PIL import ImageFont\n",
    "\n",
    "font_path = '/usr/share/fonts/truetype/ubuntu/Ubuntu-R.ttf'\n",
    "\n",
    "ImageFont.truetype(font=font_path, size=30)\n",
    "\n",
    "wordcloud = WordCloud(\n",
    "    width=800,\n",
    "    height=400,\n",
    "    background_color='white',\n",
    "    colormap='Dark2',\n",
    "    max_words=50,\n",
    "    font_path=font_path  # Specify the font path here\n",
    ").generate(' '.join(df_last_names['last_name']))\n",
    "\n",
    "fig_wordcloud = go.Figure(data=go.Image(z=wordcloud.to_array(),\n",
    "                                        hoverinfo='none'))\n",
    "\n",
    "fig_wordcloud.update_layout(\n",
    "    width=800,\n",
    "    height=400,\n",
    "    xaxis=dict(visible=False),\n",
    "    yaxis=dict(visible=False),\n",
    "    plot_bgcolor='rgba(0,0,0,0)'\n",
    ")\n",
    "\n",
    "fig_wordcloud.show()"
   ],
   "metadata": {
    "collapsed": false
   },
   "id": "628084b51a505200"
  },
  {
   "cell_type": "code",
   "execution_count": null,
   "outputs": [],
   "source": [
    "# Gender distribution\n",
    "fig_gender_distribution = px.box(df_gender_distribution, x=\"gender_label\", y=\"popularity\")\n",
    "fig_gender_distribution.show()"
   ],
   "metadata": {
    "collapsed": false
   },
   "id": "73474caa0d4a396c"
  },
  {
   "cell_type": "code",
   "execution_count": null,
   "outputs": [],
   "source": [
    "# Top actors bar plot\n",
    "fig_top_actors_bar = px.bar(df_top_actors, x='name', y='avg_popularity', title='Top 10 actors by average popularity')\n",
    "fig_top_actors_bar.show()"
   ],
   "metadata": {
    "collapsed": false
   },
   "id": "8b52c4d861fabdc7"
  },
  {
   "cell_type": "code",
   "execution_count": null,
   "outputs": [],
   "source": [
    "# Average department popularity bar plot\n",
    "fig_department_popularity_bar = px.bar(df_department_popularity, x='known_for_department', y='avg_popularity',\n",
    "                                       title='Average department popularity')\n",
    "fig_department_popularity_bar.show()"
   ],
   "metadata": {
    "collapsed": false
   },
   "id": "4d7e9bf03fe82cdb"
  },
  {
   "cell_type": "code",
   "execution_count": null,
   "outputs": [],
   "source": [
    "# Gender distribution of people\n",
    "gender_counts = df_people['gender'].map({1: 'female', 2: 'male', 3: 'non-binary'}).value_counts()\n",
    "gender_counts_df = pd.DataFrame({'gender': gender_counts.index, 'count': gender_counts.values})\n",
    "\n",
    "fig_gender_distribution_pie = px.pie(gender_counts_df, values='count', names='gender')\n",
    "fig_gender_distribution_pie.show()"
   ],
   "metadata": {
    "collapsed": false
   },
   "id": "c8f6bdc6941d22a"
  },
  {
   "cell_type": "code",
   "execution_count": null,
   "outputs": [],
   "source": [
    "# Budget distribution of df_movies\n",
    "fig_budget_distribution = px.histogram(df_movies, x='budget', title='Budget distribution')\n",
    "fig_budget_distribution.show()"
   ],
   "metadata": {
    "collapsed": false
   },
   "id": "3ca5156d2b22e19c"
  },
  {
   "cell_type": "code",
   "execution_count": null,
   "outputs": [],
   "source": [
    "# calculate the profit for each movie\n",
    "df_movies['profit'] = df_movies['revenue'] - df_movies['budget']\n",
    "\n",
    "# Merge the movies and movie_genres dataframes\n",
    "movies_and_genres = pd.merge(df_movies, df_moviegenres, left_on='id', right_on='movie_id')\n",
    "\n",
    "# Merge the movies_genres and genres dataframes\n",
    "movies_genres_and_names = pd.merge(movies_and_genres, df_genres, left_on='genre_id', right_on='id')\n",
    "\n",
    "# Calculate the average profit for each genre\n",
    "average_profit_per_genre = movies_genres_and_names.groupby('name')['profit'].mean()\n",
    "\n",
    "# Sort the genres by average profit\n",
    "average_profit_per_genre.sort_values(ascending=False, inplace=True)\n",
    "\n",
    "# Plot the average profit per genre\n",
    "fig_average_profit_per_genre_bar = px.bar(average_profit_per_genre, x=average_profit_per_genre.index,\n",
    "                                          y=average_profit_per_genre.values, title='Average profit per genre')\n",
    "fig_average_profit_per_genre_bar.show()"
   ],
   "metadata": {
    "collapsed": false
   },
   "id": "1f4ca7be3e6ab82f"
  },
  {
   "cell_type": "code",
   "execution_count": null,
   "outputs": [],
   "source": [
    "from PIL import Image\n",
    "import io\n",
    "from matplotlib import pyplot as plt\n",
    "from plotly.graph_objs import Figure\n",
    "\n",
    "# Create a seaborn heatmap\n",
    "plt.figure(figsize=(8, 6), dpi=100)\n",
    "sns.heatmap(df_movies_unfiltered.isnull(), cbar=False)\n",
    "plt.title('Missing Values Heatmap')\n",
    "plt.tight_layout()\n",
    "\n",
    "# Convert the seaborn plot to an image\n",
    "buf = io.BytesIO()\n",
    "plt.savefig(buf, format='png')\n",
    "buf.seek(0)\n",
    "image = Image.open(buf)"
   ],
   "metadata": {
    "collapsed": false
   },
   "id": "dbf2fd60f2783888"
  },
  {
   "cell_type": "code",
   "execution_count": null,
   "outputs": [],
   "source": [
    "# Calculate the return\n",
    "budget_vs_revenue['return'] = budget_vs_revenue['revenue'] - budget_vs_revenue['budget']\n",
    "\n",
    "# Filter\n",
    "filtered_df = budget_vs_revenue[(budget_vs_revenue['budget'] > 0) & (budget_vs_revenue['revenue'] > 0)]\n",
    "\n",
    "# Positive and negative returns\n",
    "positive_return_count = (filtered_df['return'] > 0).sum()\n",
    "negative_return_count = (filtered_df['return'] < 0).sum()\n",
    "\n",
    "# Data for plotting\n",
    "return_counts = [positive_return_count, negative_return_count]\n",
    "categories = ['Positive Return', 'Negative Return']\n",
    "\n",
    "# Create the plotly bar chart\n",
    "fig_return_bar = px.bar(x=categories, y=return_counts, title='Return of movies')\n",
    "fig_return_bar.show()"
   ],
   "metadata": {
    "collapsed": false
   },
   "id": "faf4495e677cdc08"
  },
  {
   "cell_type": "code",
   "execution_count": null,
   "outputs": [],
   "source": [
    "# Distribution of runtime\n",
    "fig_runtime_distribution = px.histogram(runtime_vs_revenue, x='runtime', nbins=30,\n",
    "                                        title='Distribution of Movie Runtimes',\n",
    "                                        labels={'runtime': 'Runtime (minutes)'},\n",
    "                                        color_discrete_sequence=['skyblue'])\n",
    "\n",
    "fig_runtime_distribution.update_layout(bargap=0.1)\n",
    "fig_runtime_distribution.update_traces(marker=dict(line=dict(color='black', width=2)))\n",
    "\n",
    "fig_runtime_distribution.show()"
   ],
   "metadata": {
    "collapsed": false
   },
   "id": "c7d1176fca2cc7e6"
  },
  {
   "cell_type": "code",
   "execution_count": null,
   "outputs": [],
   "source": [
    "top_languages = language_diversity_in_movies.nlargest(10, 'num_movies')\n",
    "other_languages = pd.DataFrame(data={\n",
    "    \"original_language\": [\"Other\"],\n",
    "    \"num_movies\": [language_diversity_in_movies.iloc[10:].num_movies.sum()]\n",
    "})\n",
    "consolidated_languages = pd.concat([top_languages, other_languages])\n",
    "\n",
    "fig_language_diversity = px.pie(consolidated_languages, values='num_movies', names='original_language',\n",
    "                                title='Language diversity in movies')\n",
    "fig_language_diversity.show()"
   ],
   "metadata": {
    "collapsed": false
   },
   "id": "1cb45fb5843b75f6"
  },
  {
   "cell_type": "markdown",
   "source": [
    "## Dashboard"
   ],
   "metadata": {
    "collapsed": false
   },
   "id": "3a90583646a33b35"
  },
  {
   "cell_type": "code",
   "execution_count": null,
   "outputs": [],
   "source": [
    "import dash\n",
    "from dash import dcc\n",
    "from dash import html\n",
    "import dash_bootstrap_components as dbc"
   ],
   "metadata": {
    "collapsed": false
   },
   "id": "45424c4b5674b19c"
  },
  {
   "cell_type": "code",
   "execution_count": null,
   "outputs": [],
   "source": [
    "app = dash.Dash(__name__, external_stylesheets=[dbc.themes.BOOTSTRAP])\n",
    "\n",
    "card_style = {\n",
    "    'margin': '10px',\n",
    "    'padding': '10px',\n",
    "    'boxShadow': '0 4px 8px 0 rgba(0,0,0,0.2)'\n",
    "}\n",
    "\n",
    "app.layout = dbc.Container([\n",
    "    dbc.Row(dbc.Col(html.H1('Movie Dashboard', className='text-center my-4'), width=12)),\n",
    "\n",
    "    dbc.Row(dbc.Col(html.H2('Data overview', className='my-4 mx-10'), width=12)),\n",
    "\n",
    "    dbc.Col(dbc.Card([\n",
    "        html.H3(\"Missing Values Heatmap\"),\n",
    "        html.Div([\n",
    "            dcc.Graph(\n",
    "                id='heatmap',\n",
    "                figure={\n",
    "                    'data': [{\n",
    "                        'x': [0, 1],\n",
    "                        'y': [0, 1],\n",
    "                        'mode': 'markers',\n",
    "                        'marker': {\n",
    "                            'opacity': 0\n",
    "                        }\n",
    "                    }],\n",
    "                    'layout': {\n",
    "                        'images': [go.layout.Image(\n",
    "                            source=image,\n",
    "                            xref=\"x\",\n",
    "                            yref=\"y\",\n",
    "                            x=0,\n",
    "                            y=1,\n",
    "                            sizex=1,\n",
    "                            sizey=1,\n",
    "                            sizing=\"stretch\",\n",
    "                            opacity=1,\n",
    "                            layer=\"below\"\n",
    "                        )],\n",
    "                        'xaxis': {'visible': False, 'range': [0, 1]},\n",
    "                        'yaxis': {'visible': False, 'range': [0, 1]},\n",
    "                        'width': 800,\n",
    "                        'height': 600,\n",
    "                        'title': 'Missing Values Heatmap'\n",
    "                    }\n",
    "                }\n",
    "            )\n",
    "        ]),\n",
    "    ], style=card_style), md=6),\n",
    "\n",
    "    dbc.Row(dbc.Col(html.H2('Movies', className='my-4 mx-10'), width=12)),\n",
    "\n",
    "    dbc.Row([\n",
    "        dbc.Col(dbc.Card([\n",
    "            html.H3('Distribution of Movie Runtimes', className='card-header'),\n",
    "            dcc.Graph(id='fig_runtime_distribution', figure=fig_runtime_distribution)\n",
    "        ], style=card_style), md=6),\n",
    "\n",
    "        dbc.Col(dbc.Card([\n",
    "            html.H3('Top 100 movies by revenue', className='card-header'),\n",
    "            dcc.Graph(id='revenue_top_100', figure=fig_revenue_top_100_bar)\n",
    "        ], style=card_style), md=6),\n",
    "    ]),\n",
    "\n",
    "    dbc.Row([\n",
    "        dbc.Col(dbc.Card([\n",
    "            html.H3('Number of movies by genre', className='card-header'),\n",
    "            dcc.Graph(id='num_movies_by_genre', figure=fig_top_genres_bar)\n",
    "        ], style=card_style), md=6),\n",
    "        dbc.Col(dbc.Card([\n",
    "            html.H3('Average revenue by genre', className='card-header'),\n",
    "            dcc.Graph(id='fig_average_revenue_by_genre_bar', figure=fig_average_revenue_by_genre_bar)\n",
    "        ], style=card_style), md=6)\n",
    "    ]),\n",
    "\n",
    "    dbc.Row([\n",
    "        dbc.Col(dbc.Card([\n",
    "            html.H3('Movies by popularity and date', className='card-header'),\n",
    "            dcc.Graph(id='movies_by_popularity', figure=fig_popularity_top_30)\n",
    "        ], style=card_style), md=6),\n",
    "        dbc.Col(dbc.Card([\n",
    "            html.H3('Number of movies by release year by production country', className='card-header'),\n",
    "            dcc.Graph(id='num_movies_by_year_by_country', figure=fig_releases_by_year_map)\n",
    "        ], style=card_style), md=6)\n",
    "    ]),\n",
    "\n",
    "    dbc.Col(dbc.Card([\n",
    "        html.H3('Budget distribution', className='card-header'),\n",
    "        dcc.Graph(id='fig_budget_distribution', figure=fig_budget_distribution)\n",
    "    ], style=card_style), md=6),\n",
    "\n",
    "    dbc.Row(dbc.Col(html.H2('Production', className='my-4 mx-10'), width=12)),\n",
    "\n",
    "    dbc.Row([\n",
    "        dbc.Col(dbc.Card([\n",
    "            html.H3('Language diversity in movies', className='card-header'),\n",
    "            dcc.Graph(id='fig_language_diversity', figure=fig_language_diversity)\n",
    "        ], style=card_style), md=6),\n",
    "\n",
    "        dbc.Col(dbc.Card([\n",
    "            html.H3('Profit distribution by genre', className='card-header'),\n",
    "            dcc.Graph(id='fig_average_profit_per_genre_bar', figure=fig_average_profit_per_genre_bar)\n",
    "        ], style=card_style), md=6),\n",
    "    ]),\n",
    "\n",
    "    dbc.Row([\n",
    "        dbc.Col(dbc.Card([\n",
    "            html.H3('Return of movies', className='card-header'),\n",
    "            dcc.Graph(id='fig_return_bar', figure=fig_return_bar)\n",
    "        ], style=card_style), md=6),\n",
    "\n",
    "        dbc.Col(dbc.Card([\n",
    "            html.H3('Map of production countries', className='card-header'),\n",
    "            dcc.Graph(id='num_movies_by_country_map', figure=fig_top_countries_map)\n",
    "        ], style=card_style), md=6),\n",
    "    ]),\n",
    "\n",
    "    dbc.Row([\n",
    "        dbc.Col(dbc.Card([\n",
    "            html.H3('Number of movies by production country', className='card-header'),\n",
    "            dcc.Graph(id='num_movies_by_country', figure=fig_top_countries_bar)\n",
    "        ], style=card_style), md=6),\n",
    "        dbc.Col(dbc.Card([\n",
    "            html.H3('Number of movies by production company', className='card-header'),\n",
    "            dcc.Graph(id='num_movies_by_company', figure=fig_top_companies_bar)\n",
    "        ], style=card_style), md=6)\n",
    "    ]),\n",
    "\n",
    "    dbc.Row([\n",
    "        dbc.Col(dbc.Card([\n",
    "            html.H3('Total revenue by production company', className='card-header'),\n",
    "            dcc.Graph(id='total_revenue_by_company', figure=fig_total_revenue_by_company_bar)\n",
    "        ], style=card_style), md=6),\n",
    "        dbc.Col(dbc.Card([\n",
    "            html.H3('Cooperation between production companies', className='card-header'),\n",
    "            dcc.Graph(id='cooperation_between_companies', figure=fig_cooperation_bar)\n",
    "        ], style=card_style), md=6)\n",
    "    ]),\n",
    "\n",
    "    dbc.Row([\n",
    "        dbc.Col(dbc.Card([\n",
    "            html.H3('Top genre by production country', className='card-header'),\n",
    "            dcc.Graph(id='fig_top_genre_by_country_map', figure=fig_top_genre_by_country_map)\n",
    "        ], style=card_style), md=6),\n",
    "        dbc.Col(dbc.Card([\n",
    "            html.H3('Number of movies by spoken language', className='card-header'),\n",
    "            dcc.Graph(id='num_movies_by_language', figure=fig_top_languages)\n",
    "        ], style=card_style), md=6)\n",
    "    ]),\n",
    "\n",
    "    dbc.Row([\n",
    "        dbc.Col(dbc.Card([\n",
    "            html.H3('Number of movies by release year by production country (accumulated)', className='card-header'),\n",
    "            dcc.Graph(id='num_movies_by_year_by_country_acc', figure=fig_releases_by_year_acc_map)\n",
    "        ], style=card_style), md=6),\n",
    "        dbc.Col(dbc.Card([\n",
    "            html.H3('Average department popularity', className='card-header'),\n",
    "            dcc.Graph(id='department_popularity', figure=fig_department_popularity_bar)\n",
    "        ], style=card_style), md=6)\n",
    "    ]),\n",
    "\n",
    "    dbc.Row(dbc.Col(html.H2('People', className='my-4 mx-10'), width=12)),\n",
    "\n",
    "    dbc.Row([\n",
    "        dbc.Col(dbc.Card([\n",
    "            html.H3('Wordcloud of last names', className='card-header'),\n",
    "            dcc.Graph(id='wordcloud', figure=fig_wordcloud)\n",
    "        ], style=card_style), md=6),\n",
    "        dbc.Col(dbc.Card([\n",
    "            html.H3('Top actors by average popularity', className='card-header'),\n",
    "            dcc.Graph(id='top_actors', figure=fig_top_actors_bar)\n",
    "        ], style=card_style), md=6)\n",
    "    ]),\n",
    "\n",
    "    dbc.Row([\n",
    "        dbc.Col(dbc.Card([\n",
    "            html.H3('Gender distribution', className='card-header'),\n",
    "            dcc.Graph(id='fig_gender_distribution_pie', figure=fig_gender_distribution_pie)\n",
    "        ], style=card_style), md=6),\n",
    "        dbc.Col(dbc.Card([\n",
    "            html.H3('Gender distribution', className='card-header'),\n",
    "            dcc.Graph(id='gender_distribution', figure=fig_gender_distribution)\n",
    "        ], style=card_style), md=6),\n",
    "    ]),\n",
    "\n",
    "    html.Footer('Data provided by TMDB',\n",
    "                className='text-center my-4')\n",
    "], fluid=True)\n",
    "\n",
    "app.run_server(debug=True)"
   ],
   "metadata": {
    "collapsed": false
   },
   "id": "2a74c16d5f0584d"
  }
 ],
 "metadata": {
  "kernelspec": {
   "display_name": "Python 3",
   "language": "python",
   "name": "python3"
  },
  "language_info": {
   "codemirror_mode": {
    "name": "ipython",
    "version": 2
   },
   "file_extension": ".py",
   "mimetype": "text/x-python",
   "name": "python",
   "nbconvert_exporter": "python",
   "pygments_lexer": "ipython2",
   "version": "2.7.6"
  }
 },
 "nbformat": 4,
 "nbformat_minor": 5
}
